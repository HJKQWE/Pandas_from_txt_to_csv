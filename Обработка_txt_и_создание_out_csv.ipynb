{
  "nbformat": 4,
  "nbformat_minor": 0,
  "metadata": {
    "colab": {
      "provenance": []
    },
    "kernelspec": {
      "name": "python3",
      "display_name": "Python 3"
    },
    "language_info": {
      "name": "python"
    }
  },
  "cells": [
    {
      "cell_type": "code",
      "source": [
        "'''\n",
        "Имеется директория с данными под названием data.\n",
        "В ней три поддиректории - dir_1, dir_2, dir_3.\n",
        "В каждой из них есть набор файлов вида file_0.txt, file_1.txt, ... , file_24.txt.\n",
        "Файлы с некоторыми номерами могут отсутствовать (например, в dir_1 нет как минимум файла file_7.txt).\n",
        "В каждом файле записано одно целое число.\n",
        "Требуется сделать скрипт, который на основании этих данных сгенерирует файл out.csv (очевидно, в формате \"csv\"), с тремя столбцами:\n",
        "id, date, sum\n",
        "В столбец id записать номер файла из имени. То есть, для файла file_5.txt в столбце должно быть записано \"5\".\n",
        "В столбце date указать сегодняшнюю дату (Да, она будет во всех строчках одинаковая) в формате \"yyyy.mm.dd\"\n",
        "В столбце sum записать либо\n",
        "а) сумму чисел, записанных в файлах с одинаковыми именами (например, dir_1/file_5.txt, dir_2/file_5.txt, dir_3/file_5.txt), если все три файла существуют\n",
        "б) дефис (прочерк), если хотя бы в одной из директорий dir_1, dir_2 и dir_3 не окажется файла с таким именем.\n",
        "В качестве результата работы прислать собственно скрипт и получившийся csv-файл.\n",
        "'''"
      ],
      "metadata": {
        "id": "nhH3Ih26DSYa"
      },
      "execution_count": 14,
      "outputs": []
    },
    {
      "cell_type": "code",
      "source": [
        "import os\n",
        "from pathlib import Path\n",
        "import csv\n",
        "from datetime import datetime\n",
        "import numpy as np\n",
        "import re\n",
        "import pandas as pd"
      ],
      "metadata": {
        "id": "WYQGdG0pRsIj"
      },
      "execution_count": 93,
      "outputs": []
    },
    {
      "cell_type": "code",
      "source": [
        "# Проверка текущей директории\n",
        "os.getcwd()"
      ],
      "metadata": {
        "colab": {
          "base_uri": "https://localhost:8080/",
          "height": 36
        },
        "id": "Oy-tzFgoRujf",
        "outputId": "7fa1d920-c71e-45c6-b61d-0e5bded3c063"
      },
      "execution_count": 3,
      "outputs": [
        {
          "output_type": "execute_result",
          "data": {
            "text/plain": [
              "'/content'"
            ],
            "application/vnd.google.colaboratory.intrinsic+json": {
              "type": "string"
            }
          },
          "metadata": {},
          "execution_count": 3
        }
      ]
    },
    {
      "cell_type": "code",
      "source": [
        "# Создаем корневую папку\n",
        "os.mkdir('data')"
      ],
      "metadata": {
        "id": "f7gjMIO3R4Mf"
      },
      "execution_count": 4,
      "outputs": []
    },
    {
      "cell_type": "code",
      "source": [
        "# Создаем вложенные директории\n",
        "os.chdir('data')\n",
        "os.makedirs('dir_1')\n",
        "os.makedirs('dir_2')\n",
        "os.makedirs('dir_3')"
      ],
      "metadata": {
        "id": "Y_BR-Z2TSB5b"
      },
      "execution_count": 5,
      "outputs": []
    },
    {
      "cell_type": "code",
      "source": [
        "# Создаем текстовые файлы, согласно заданию\n",
        "t = int(input())\n",
        "for i in range(t):\n",
        "    my_file = open(f'/content/data/dir_1/file_{i}.txt', mode = 'w', encoding='UTF-8')\n",
        "    my_file.writelines(f\"{i}\")\n",
        "    my_file = open(f'/content/data/dir_2/file_{i}.txt', mode = 'w', encoding='UTF-8')\n",
        "    my_file.writelines(f\"{i}\")\n",
        "    my_file = open(f'/content/data/dir_3/file_{i}.txt', mode = 'w', encoding='UTF-8')\n",
        "    my_file.writelines(f\"{i}\")"
      ],
      "metadata": {
        "colab": {
          "base_uri": "https://localhost:8080/"
        },
        "id": "2YWHGO9_TMqC",
        "outputId": "c451d914-67e2-42fa-c8fa-9feba36d0b7e"
      },
      "execution_count": 6,
      "outputs": [
        {
          "name": "stdout",
          "output_type": "stream",
          "text": [
            "25\n"
          ]
        }
      ]
    },
    {
      "cell_type": "code",
      "source": [
        "# Проверим директории и файлы, всё ли на месте\n",
        "for dirpath, dirnames, filenames in os.walk('.'):\n",
        "    for dirname in dirnames:\n",
        "      print('Каталог:', os.path.join(dirpath, dirname))\n",
        "    for filename in filenames:\n",
        "      print('Файл:', os.path.join(dirpath, filename))"
      ],
      "metadata": {
        "colab": {
          "base_uri": "https://localhost:8080/"
        },
        "id": "B5Xg4RM7VpPE",
        "outputId": "b88011a9-fc54-41a2-8674-5852e4a5edac"
      },
      "execution_count": 7,
      "outputs": [
        {
          "output_type": "stream",
          "name": "stdout",
          "text": [
            "Каталог: ./dir_3\n",
            "Каталог: ./dir_2\n",
            "Каталог: ./dir_1\n",
            "Файл: ./dir_3/file_13.txt\n",
            "Файл: ./dir_3/file_0.txt\n",
            "Файл: ./dir_3/file_4.txt\n",
            "Файл: ./dir_3/file_21.txt\n",
            "Файл: ./dir_3/file_11.txt\n",
            "Файл: ./dir_3/file_19.txt\n",
            "Файл: ./dir_3/file_15.txt\n",
            "Файл: ./dir_3/file_17.txt\n",
            "Файл: ./dir_3/file_20.txt\n",
            "Файл: ./dir_3/file_3.txt\n",
            "Файл: ./dir_3/file_12.txt\n",
            "Файл: ./dir_3/file_8.txt\n",
            "Файл: ./dir_3/file_24.txt\n",
            "Файл: ./dir_3/file_18.txt\n",
            "Файл: ./dir_3/file_16.txt\n",
            "Файл: ./dir_3/file_6.txt\n",
            "Файл: ./dir_3/file_1.txt\n",
            "Файл: ./dir_3/file_10.txt\n",
            "Файл: ./dir_3/file_5.txt\n",
            "Файл: ./dir_3/file_9.txt\n",
            "Файл: ./dir_3/file_2.txt\n",
            "Файл: ./dir_3/file_22.txt\n",
            "Файл: ./dir_3/file_14.txt\n",
            "Файл: ./dir_3/file_7.txt\n",
            "Файл: ./dir_3/file_23.txt\n",
            "Файл: ./dir_2/file_13.txt\n",
            "Файл: ./dir_2/file_0.txt\n",
            "Файл: ./dir_2/file_4.txt\n",
            "Файл: ./dir_2/file_21.txt\n",
            "Файл: ./dir_2/file_11.txt\n",
            "Файл: ./dir_2/file_19.txt\n",
            "Файл: ./dir_2/file_15.txt\n",
            "Файл: ./dir_2/file_17.txt\n",
            "Файл: ./dir_2/file_20.txt\n",
            "Файл: ./dir_2/file_3.txt\n",
            "Файл: ./dir_2/file_12.txt\n",
            "Файл: ./dir_2/file_8.txt\n",
            "Файл: ./dir_2/file_24.txt\n",
            "Файл: ./dir_2/file_18.txt\n",
            "Файл: ./dir_2/file_16.txt\n",
            "Файл: ./dir_2/file_6.txt\n",
            "Файл: ./dir_2/file_1.txt\n",
            "Файл: ./dir_2/file_10.txt\n",
            "Файл: ./dir_2/file_5.txt\n",
            "Файл: ./dir_2/file_9.txt\n",
            "Файл: ./dir_2/file_2.txt\n",
            "Файл: ./dir_2/file_22.txt\n",
            "Файл: ./dir_2/file_14.txt\n",
            "Файл: ./dir_2/file_7.txt\n",
            "Файл: ./dir_2/file_23.txt\n",
            "Файл: ./dir_1/file_13.txt\n",
            "Файл: ./dir_1/file_0.txt\n",
            "Файл: ./dir_1/file_4.txt\n",
            "Файл: ./dir_1/file_21.txt\n",
            "Файл: ./dir_1/file_11.txt\n",
            "Файл: ./dir_1/file_19.txt\n",
            "Файл: ./dir_1/file_15.txt\n",
            "Файл: ./dir_1/file_17.txt\n",
            "Файл: ./dir_1/file_20.txt\n",
            "Файл: ./dir_1/file_3.txt\n",
            "Файл: ./dir_1/file_12.txt\n",
            "Файл: ./dir_1/file_8.txt\n",
            "Файл: ./dir_1/file_24.txt\n",
            "Файл: ./dir_1/file_18.txt\n",
            "Файл: ./dir_1/file_16.txt\n",
            "Файл: ./dir_1/file_6.txt\n",
            "Файл: ./dir_1/file_1.txt\n",
            "Файл: ./dir_1/file_10.txt\n",
            "Файл: ./dir_1/file_5.txt\n",
            "Файл: ./dir_1/file_9.txt\n",
            "Файл: ./dir_1/file_2.txt\n",
            "Файл: ./dir_1/file_22.txt\n",
            "Файл: ./dir_1/file_14.txt\n",
            "Файл: ./dir_1/file_7.txt\n",
            "Файл: ./dir_1/file_23.txt\n"
          ]
        }
      ]
    },
    {
      "cell_type": "code",
      "source": [
        "# Для выполнения задания требуется убрать некоторые файлы\n",
        "os.remove('/content/data/dir_1/file_2.txt')\n",
        "os.remove('/content/data/dir_1/file_5.txt')\n",
        "os.remove('/content/data/dir_1/file_17.txt')\n",
        "os.remove('/content/data/dir_1/file_24.txt')"
      ],
      "metadata": {
        "id": "sZYggFKRXXsy"
      },
      "execution_count": 8,
      "outputs": []
    },
    {
      "cell_type": "code",
      "source": [
        "# И еще раз проверим, действительно ли все файлы как нужно сформированы\n",
        "for dirpath, dirnames, filenames in os.walk('.'):\n",
        "    for dirname in dirnames:\n",
        "      print('Каталог:', os.path.join(dirpath, dirname))\n",
        "    for filename in filenames:\n",
        "      print('Файл:', os.path.join(dirpath, filename))"
      ],
      "metadata": {
        "colab": {
          "base_uri": "https://localhost:8080/"
        },
        "id": "qfU7qnCVYudE",
        "outputId": "afc6b1c2-b269-4b57-f3a0-62c758718c15"
      },
      "execution_count": 9,
      "outputs": [
        {
          "output_type": "stream",
          "name": "stdout",
          "text": [
            "Каталог: ./dir_3\n",
            "Каталог: ./dir_2\n",
            "Каталог: ./dir_1\n",
            "Файл: ./dir_3/file_13.txt\n",
            "Файл: ./dir_3/file_0.txt\n",
            "Файл: ./dir_3/file_4.txt\n",
            "Файл: ./dir_3/file_21.txt\n",
            "Файл: ./dir_3/file_11.txt\n",
            "Файл: ./dir_3/file_19.txt\n",
            "Файл: ./dir_3/file_15.txt\n",
            "Файл: ./dir_3/file_17.txt\n",
            "Файл: ./dir_3/file_20.txt\n",
            "Файл: ./dir_3/file_3.txt\n",
            "Файл: ./dir_3/file_12.txt\n",
            "Файл: ./dir_3/file_8.txt\n",
            "Файл: ./dir_3/file_24.txt\n",
            "Файл: ./dir_3/file_18.txt\n",
            "Файл: ./dir_3/file_16.txt\n",
            "Файл: ./dir_3/file_6.txt\n",
            "Файл: ./dir_3/file_1.txt\n",
            "Файл: ./dir_3/file_10.txt\n",
            "Файл: ./dir_3/file_5.txt\n",
            "Файл: ./dir_3/file_9.txt\n",
            "Файл: ./dir_3/file_2.txt\n",
            "Файл: ./dir_3/file_22.txt\n",
            "Файл: ./dir_3/file_14.txt\n",
            "Файл: ./dir_3/file_7.txt\n",
            "Файл: ./dir_3/file_23.txt\n",
            "Файл: ./dir_2/file_13.txt\n",
            "Файл: ./dir_2/file_0.txt\n",
            "Файл: ./dir_2/file_4.txt\n",
            "Файл: ./dir_2/file_21.txt\n",
            "Файл: ./dir_2/file_11.txt\n",
            "Файл: ./dir_2/file_19.txt\n",
            "Файл: ./dir_2/file_15.txt\n",
            "Файл: ./dir_2/file_17.txt\n",
            "Файл: ./dir_2/file_20.txt\n",
            "Файл: ./dir_2/file_3.txt\n",
            "Файл: ./dir_2/file_12.txt\n",
            "Файл: ./dir_2/file_8.txt\n",
            "Файл: ./dir_2/file_24.txt\n",
            "Файл: ./dir_2/file_18.txt\n",
            "Файл: ./dir_2/file_16.txt\n",
            "Файл: ./dir_2/file_6.txt\n",
            "Файл: ./dir_2/file_1.txt\n",
            "Файл: ./dir_2/file_10.txt\n",
            "Файл: ./dir_2/file_5.txt\n",
            "Файл: ./dir_2/file_9.txt\n",
            "Файл: ./dir_2/file_2.txt\n",
            "Файл: ./dir_2/file_22.txt\n",
            "Файл: ./dir_2/file_14.txt\n",
            "Файл: ./dir_2/file_7.txt\n",
            "Файл: ./dir_2/file_23.txt\n",
            "Файл: ./dir_1/file_13.txt\n",
            "Файл: ./dir_1/file_0.txt\n",
            "Файл: ./dir_1/file_4.txt\n",
            "Файл: ./dir_1/file_21.txt\n",
            "Файл: ./dir_1/file_11.txt\n",
            "Файл: ./dir_1/file_19.txt\n",
            "Файл: ./dir_1/file_15.txt\n",
            "Файл: ./dir_1/file_20.txt\n",
            "Файл: ./dir_1/file_3.txt\n",
            "Файл: ./dir_1/file_12.txt\n",
            "Файл: ./dir_1/file_8.txt\n",
            "Файл: ./dir_1/file_18.txt\n",
            "Файл: ./dir_1/file_16.txt\n",
            "Файл: ./dir_1/file_6.txt\n",
            "Файл: ./dir_1/file_1.txt\n",
            "Файл: ./dir_1/file_10.txt\n",
            "Файл: ./dir_1/file_9.txt\n",
            "Файл: ./dir_1/file_22.txt\n",
            "Файл: ./dir_1/file_14.txt\n",
            "Файл: ./dir_1/file_7.txt\n",
            "Файл: ./dir_1/file_23.txt\n"
          ]
        }
      ]
    },
    {
      "cell_type": "code",
      "source": [
        "# Проверка директории текущей\n",
        "os.getcwd()"
      ],
      "metadata": {
        "colab": {
          "base_uri": "https://localhost:8080/",
          "height": 36
        },
        "id": "Gjps2eexuyLS",
        "outputId": "f23bb2f2-c5c7-4867-eb04-e34a701289c9"
      },
      "execution_count": 11,
      "outputs": [
        {
          "output_type": "execute_result",
          "data": {
            "text/plain": [
              "'/content/data'"
            ],
            "application/vnd.google.colaboratory.intrinsic+json": {
              "type": "string"
            }
          },
          "metadata": {},
          "execution_count": 11
        }
      ]
    },
    {
      "cell_type": "code",
      "source": [
        "# Формирование словаря\n",
        "duplicate_files = {}\n",
        "\n",
        "for dirname, dirs, filenames in os.walk('.'):\n",
        "         for filename in filenames:\n",
        "          try:\n",
        "            with open(os.path.join(dirname, filename), 'r') as f:\n",
        "             a = float(f.read())\n",
        "             duplicate_files.setdefault(filename, []).append(a)\n",
        "          except:\n",
        "             continue\n",
        "duplicate_files = {k: v for k, v in duplicate_files.items() if len(v) > 0} # сам словарь\n",
        "keys_list = list(duplicate_files) # отберем список с названиями ключей\n",
        "new_keys = [re.sub(\"[^0-9-]\", \"\", x) for x in keys_list] # уберем из названий ключей всё, что не является цифрами\n",
        "final_dict = dict(zip(new_keys, list(duplicate_files.values()))) # новые ключи соединяем со словарем\n",
        "final_dict = {int(k): v for k, v in final_dict.items() if len(v) > 0 } # ключи оборачиваем в целочисленные int\n",
        "final_dict "
      ],
      "metadata": {
        "colab": {
          "base_uri": "https://localhost:8080/"
        },
        "id": "8ApP5LRuOyNi",
        "outputId": "82d98f32-b8d8-4516-fc23-3bb7f4e9cdaa"
      },
      "execution_count": 96,
      "outputs": [
        {
          "output_type": "execute_result",
          "data": {
            "text/plain": [
              "{13: [13.0, 13.0, 13.0],\n",
              " 0: [0.0, 0.0, 0.0],\n",
              " 4: [4.0, 4.0, 4.0],\n",
              " 21: [21.0, 21.0, 21.0],\n",
              " 11: [11.0, 11.0, 11.0],\n",
              " 19: [19.0, 19.0, 19.0],\n",
              " 15: [15.0, 15.0, 15.0],\n",
              " 17: [17.0, 17.0],\n",
              " 20: [20.0, 20.0, 20.0],\n",
              " 3: [3.0, 3.0, 3.0],\n",
              " 12: [12.0, 12.0, 12.0],\n",
              " 8: [8.0, 8.0, 8.0],\n",
              " 18: [18.0, 18.0, 18.0],\n",
              " 16: [16.0, 16.0, 16.0],\n",
              " 6: [6.0, 6.0, 6.0],\n",
              " 1: [1.0, 1.0, 1.0],\n",
              " 10: [10.0, 10.0, 10.0],\n",
              " 5: [5.0, 5.0],\n",
              " 9: [9.0, 9.0, 9.0],\n",
              " 2: [2.0, 2.0],\n",
              " 22: [22.0, 22.0, 22.0],\n",
              " 14: [14.0, 14.0, 14.0],\n",
              " 7: [7.0, 7.0, 7.0],\n",
              " 23: [23.0, 23.0, 23.0],\n",
              " 24: [24.0]}"
            ]
          },
          "metadata": {},
          "execution_count": 96
        }
      ]
    },
    {
      "cell_type": "code",
      "source": [
        "# Формируем датафрейм пандас для дальнейшей обработки\n",
        "df_1 = pd.DataFrame.from_dict(final_dict, orient = 'index') # Создание датафрейма из словаря\n",
        "df_1 = df_1.sort_index(axis = 'index', ascending = True) # Отсортируем значения индекса по возрастанию\n",
        "df_1['Date'] = datetime.now().strftime('%Y.%m.%d') # Добавим столбец Дата с текущей датой\n",
        "df_1['sum'] = df_1.dropna().filter(items =[0, 1, 2]).sum(1) # Суммируем только те строки, где есть все значения\n",
        "df_1 = df_1.drop(columns = [0, 1, 2]) # Удаляем ненужные столбцы\n",
        "df_1"
      ],
      "metadata": {
        "colab": {
          "base_uri": "https://localhost:8080/",
          "height": 833
        },
        "id": "LFA-CAK5Zxjx",
        "outputId": "e8a522df-6e3b-4fb5-dcd2-5e076d9c11fb"
      },
      "execution_count": 97,
      "outputs": [
        {
          "output_type": "execute_result",
          "data": {
            "text/plain": [
              "          Date   sum\n",
              "0   2023.05.27   0.0\n",
              "1   2023.05.27   3.0\n",
              "2   2023.05.27   NaN\n",
              "3   2023.05.27   9.0\n",
              "4   2023.05.27  12.0\n",
              "5   2023.05.27   NaN\n",
              "6   2023.05.27  18.0\n",
              "7   2023.05.27  21.0\n",
              "8   2023.05.27  24.0\n",
              "9   2023.05.27  27.0\n",
              "10  2023.05.27  30.0\n",
              "11  2023.05.27  33.0\n",
              "12  2023.05.27  36.0\n",
              "13  2023.05.27  39.0\n",
              "14  2023.05.27  42.0\n",
              "15  2023.05.27  45.0\n",
              "16  2023.05.27  48.0\n",
              "17  2023.05.27   NaN\n",
              "18  2023.05.27  54.0\n",
              "19  2023.05.27  57.0\n",
              "20  2023.05.27  60.0\n",
              "21  2023.05.27  63.0\n",
              "22  2023.05.27  66.0\n",
              "23  2023.05.27  69.0\n",
              "24  2023.05.27   NaN"
            ],
            "text/html": [
              "\n",
              "  <div id=\"df-5296a1fa-5fe0-48ef-9655-c0d53cef1aaf\">\n",
              "    <div class=\"colab-df-container\">\n",
              "      <div>\n",
              "<style scoped>\n",
              "    .dataframe tbody tr th:only-of-type {\n",
              "        vertical-align: middle;\n",
              "    }\n",
              "\n",
              "    .dataframe tbody tr th {\n",
              "        vertical-align: top;\n",
              "    }\n",
              "\n",
              "    .dataframe thead th {\n",
              "        text-align: right;\n",
              "    }\n",
              "</style>\n",
              "<table border=\"1\" class=\"dataframe\">\n",
              "  <thead>\n",
              "    <tr style=\"text-align: right;\">\n",
              "      <th></th>\n",
              "      <th>Date</th>\n",
              "      <th>sum</th>\n",
              "    </tr>\n",
              "  </thead>\n",
              "  <tbody>\n",
              "    <tr>\n",
              "      <th>0</th>\n",
              "      <td>2023.05.27</td>\n",
              "      <td>0.0</td>\n",
              "    </tr>\n",
              "    <tr>\n",
              "      <th>1</th>\n",
              "      <td>2023.05.27</td>\n",
              "      <td>3.0</td>\n",
              "    </tr>\n",
              "    <tr>\n",
              "      <th>2</th>\n",
              "      <td>2023.05.27</td>\n",
              "      <td>NaN</td>\n",
              "    </tr>\n",
              "    <tr>\n",
              "      <th>3</th>\n",
              "      <td>2023.05.27</td>\n",
              "      <td>9.0</td>\n",
              "    </tr>\n",
              "    <tr>\n",
              "      <th>4</th>\n",
              "      <td>2023.05.27</td>\n",
              "      <td>12.0</td>\n",
              "    </tr>\n",
              "    <tr>\n",
              "      <th>5</th>\n",
              "      <td>2023.05.27</td>\n",
              "      <td>NaN</td>\n",
              "    </tr>\n",
              "    <tr>\n",
              "      <th>6</th>\n",
              "      <td>2023.05.27</td>\n",
              "      <td>18.0</td>\n",
              "    </tr>\n",
              "    <tr>\n",
              "      <th>7</th>\n",
              "      <td>2023.05.27</td>\n",
              "      <td>21.0</td>\n",
              "    </tr>\n",
              "    <tr>\n",
              "      <th>8</th>\n",
              "      <td>2023.05.27</td>\n",
              "      <td>24.0</td>\n",
              "    </tr>\n",
              "    <tr>\n",
              "      <th>9</th>\n",
              "      <td>2023.05.27</td>\n",
              "      <td>27.0</td>\n",
              "    </tr>\n",
              "    <tr>\n",
              "      <th>10</th>\n",
              "      <td>2023.05.27</td>\n",
              "      <td>30.0</td>\n",
              "    </tr>\n",
              "    <tr>\n",
              "      <th>11</th>\n",
              "      <td>2023.05.27</td>\n",
              "      <td>33.0</td>\n",
              "    </tr>\n",
              "    <tr>\n",
              "      <th>12</th>\n",
              "      <td>2023.05.27</td>\n",
              "      <td>36.0</td>\n",
              "    </tr>\n",
              "    <tr>\n",
              "      <th>13</th>\n",
              "      <td>2023.05.27</td>\n",
              "      <td>39.0</td>\n",
              "    </tr>\n",
              "    <tr>\n",
              "      <th>14</th>\n",
              "      <td>2023.05.27</td>\n",
              "      <td>42.0</td>\n",
              "    </tr>\n",
              "    <tr>\n",
              "      <th>15</th>\n",
              "      <td>2023.05.27</td>\n",
              "      <td>45.0</td>\n",
              "    </tr>\n",
              "    <tr>\n",
              "      <th>16</th>\n",
              "      <td>2023.05.27</td>\n",
              "      <td>48.0</td>\n",
              "    </tr>\n",
              "    <tr>\n",
              "      <th>17</th>\n",
              "      <td>2023.05.27</td>\n",
              "      <td>NaN</td>\n",
              "    </tr>\n",
              "    <tr>\n",
              "      <th>18</th>\n",
              "      <td>2023.05.27</td>\n",
              "      <td>54.0</td>\n",
              "    </tr>\n",
              "    <tr>\n",
              "      <th>19</th>\n",
              "      <td>2023.05.27</td>\n",
              "      <td>57.0</td>\n",
              "    </tr>\n",
              "    <tr>\n",
              "      <th>20</th>\n",
              "      <td>2023.05.27</td>\n",
              "      <td>60.0</td>\n",
              "    </tr>\n",
              "    <tr>\n",
              "      <th>21</th>\n",
              "      <td>2023.05.27</td>\n",
              "      <td>63.0</td>\n",
              "    </tr>\n",
              "    <tr>\n",
              "      <th>22</th>\n",
              "      <td>2023.05.27</td>\n",
              "      <td>66.0</td>\n",
              "    </tr>\n",
              "    <tr>\n",
              "      <th>23</th>\n",
              "      <td>2023.05.27</td>\n",
              "      <td>69.0</td>\n",
              "    </tr>\n",
              "    <tr>\n",
              "      <th>24</th>\n",
              "      <td>2023.05.27</td>\n",
              "      <td>NaN</td>\n",
              "    </tr>\n",
              "  </tbody>\n",
              "</table>\n",
              "</div>\n",
              "      <button class=\"colab-df-convert\" onclick=\"convertToInteractive('df-5296a1fa-5fe0-48ef-9655-c0d53cef1aaf')\"\n",
              "              title=\"Convert this dataframe to an interactive table.\"\n",
              "              style=\"display:none;\">\n",
              "        \n",
              "  <svg xmlns=\"http://www.w3.org/2000/svg\" height=\"24px\"viewBox=\"0 0 24 24\"\n",
              "       width=\"24px\">\n",
              "    <path d=\"M0 0h24v24H0V0z\" fill=\"none\"/>\n",
              "    <path d=\"M18.56 5.44l.94 2.06.94-2.06 2.06-.94-2.06-.94-.94-2.06-.94 2.06-2.06.94zm-11 1L8.5 8.5l.94-2.06 2.06-.94-2.06-.94L8.5 2.5l-.94 2.06-2.06.94zm10 10l.94 2.06.94-2.06 2.06-.94-2.06-.94-.94-2.06-.94 2.06-2.06.94z\"/><path d=\"M17.41 7.96l-1.37-1.37c-.4-.4-.92-.59-1.43-.59-.52 0-1.04.2-1.43.59L10.3 9.45l-7.72 7.72c-.78.78-.78 2.05 0 2.83L4 21.41c.39.39.9.59 1.41.59.51 0 1.02-.2 1.41-.59l7.78-7.78 2.81-2.81c.8-.78.8-2.07 0-2.86zM5.41 20L4 18.59l7.72-7.72 1.47 1.35L5.41 20z\"/>\n",
              "  </svg>\n",
              "      </button>\n",
              "      \n",
              "  <style>\n",
              "    .colab-df-container {\n",
              "      display:flex;\n",
              "      flex-wrap:wrap;\n",
              "      gap: 12px;\n",
              "    }\n",
              "\n",
              "    .colab-df-convert {\n",
              "      background-color: #E8F0FE;\n",
              "      border: none;\n",
              "      border-radius: 50%;\n",
              "      cursor: pointer;\n",
              "      display: none;\n",
              "      fill: #1967D2;\n",
              "      height: 32px;\n",
              "      padding: 0 0 0 0;\n",
              "      width: 32px;\n",
              "    }\n",
              "\n",
              "    .colab-df-convert:hover {\n",
              "      background-color: #E2EBFA;\n",
              "      box-shadow: 0px 1px 2px rgba(60, 64, 67, 0.3), 0px 1px 3px 1px rgba(60, 64, 67, 0.15);\n",
              "      fill: #174EA6;\n",
              "    }\n",
              "\n",
              "    [theme=dark] .colab-df-convert {\n",
              "      background-color: #3B4455;\n",
              "      fill: #D2E3FC;\n",
              "    }\n",
              "\n",
              "    [theme=dark] .colab-df-convert:hover {\n",
              "      background-color: #434B5C;\n",
              "      box-shadow: 0px 1px 3px 1px rgba(0, 0, 0, 0.15);\n",
              "      filter: drop-shadow(0px 1px 2px rgba(0, 0, 0, 0.3));\n",
              "      fill: #FFFFFF;\n",
              "    }\n",
              "  </style>\n",
              "\n",
              "      <script>\n",
              "        const buttonEl =\n",
              "          document.querySelector('#df-5296a1fa-5fe0-48ef-9655-c0d53cef1aaf button.colab-df-convert');\n",
              "        buttonEl.style.display =\n",
              "          google.colab.kernel.accessAllowed ? 'block' : 'none';\n",
              "\n",
              "        async function convertToInteractive(key) {\n",
              "          const element = document.querySelector('#df-5296a1fa-5fe0-48ef-9655-c0d53cef1aaf');\n",
              "          const dataTable =\n",
              "            await google.colab.kernel.invokeFunction('convertToInteractive',\n",
              "                                                     [key], {});\n",
              "          if (!dataTable) return;\n",
              "\n",
              "          const docLinkHtml = 'Like what you see? Visit the ' +\n",
              "            '<a target=\"_blank\" href=https://colab.research.google.com/notebooks/data_table.ipynb>data table notebook</a>'\n",
              "            + ' to learn more about interactive tables.';\n",
              "          element.innerHTML = '';\n",
              "          dataTable['output_type'] = 'display_data';\n",
              "          await google.colab.output.renderOutput(dataTable, element);\n",
              "          const docLink = document.createElement('div');\n",
              "          docLink.innerHTML = docLinkHtml;\n",
              "          element.appendChild(docLink);\n",
              "        }\n",
              "      </script>\n",
              "    </div>\n",
              "  </div>\n",
              "  "
            ]
          },
          "metadata": {},
          "execution_count": 97
        }
      ]
    },
    {
      "cell_type": "code",
      "source": [
        "# Сохраняем документ с названием 'out.csv' согласно заданию\n",
        "df_1.to_csv('out.csv')"
      ],
      "metadata": {
        "id": "HlFIt2eGwQKd"
      },
      "execution_count": 92,
      "outputs": []
    }
  ]
}